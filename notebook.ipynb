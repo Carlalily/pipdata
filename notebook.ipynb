{
 "cells": [
  {
   "cell_type": "code",
   "execution_count": 232,
   "metadata": {
    "scrolled": true
   },
   "outputs": [],
   "source": [
    "#load some required modules\n",
    "#numpy\n",
    "import numpy as np\n",
    "#for loading nifti files \n",
    "import nibabel as nib\n"
   ]
  },
  {
   "cell_type": "code",
   "execution_count": 237,
   "metadata": {},
   "outputs": [
    {
     "name": "stdout",
     "output_type": "stream",
     "text": [
      "[5, 6, 7, 8, 14, 15, 17, 18, 19, 20, 21, 22, 23, 24]\n"
     ]
    }
   ],
   "source": [
    "#define the data location \n",
    "#REPLACE THIS WITH YOUR LOCAL PIPSHARE PATH\n",
    "#datadir = '/Users/paddyslator/Dropbox/placentaJhu/'\n",
    "datadir = '//perinatal126-pc/pipdata/'\n",
    "\n",
    "#choose the scan to fit to (this is the name of the directory in the pipshare)\n",
    "\n",
    "pipids = [\"inf0002\",\"inf0003\",\"inf0004\",\"inf0005\",\"inf0006\",\"inf0007\",\"inf0008\",\"inf0010\",\"inf0011\",\"inf0012\",\"inf0013\",\"inf0014\",\"inf0015\",\"pip0163\",\"pip0130\",\"pip0143\",\"pip0178\",\"pip0162\",\"pip0276\",\"pip0204\",\"pip021902\",\"pip0201\",\"pip0147\",\"pip014702\",\"pip0195\"]\n",
    "namescontrol=[\"inf0007\",\"inf0008\",\"inf0010\",\"inf0011\",\"pip0130\",\"pip0143\",\"pip0162\",\"pip0276\",\"pip0204\",\"pip021902\",\"pip0201\",\"pip0147\",\"pip014702\",\"pip0195\"]\n",
    "indicescontrol=[]\n",
    "for element in namescontrol:\n",
    "    for ids in range(0,len(pipids)):\n",
    "        if pipids[ids]==element:\n",
    "            indicescontrol.append(ids)\n",
    "            \n",
    "print (indicescontrol)\n",
    "expnrs =[\"15\",\"14\",\"14\",\"15\",\"14\",\"15\",\"14\",\"16\",\"14\",\"20\",\"16\",\"17\",\"17\",\"19\",\"14\",\"12\",\"22\",\"16\",\"32\",\"17\",\"26\",\"13\",\"13\",\"16\",\"15\"]\n",
    "gas=[27.7,29.86,30.57,25.86,29.71,26.57,25.43,33.71,29.71,26.29,29,30,20.6,38.14,29.57,31,23.43,32.86,21.14,26.57,37,23,26.57,36.57,15.71]\n",
    "\n",
    "\n",
    "\n",
    "#pipid = \"chip0275\"\n",
    "#pipid = \"CARP0014\""
   ]
  },
  {
   "cell_type": "code",
   "execution_count": 244,
   "metadata": {
    "scrolled": true
   },
   "outputs": [
    {
     "name": "stdout",
     "output_type": "stream",
     "text": [
      "HERE I AM DOING SUBJECT pip0163\n",
      "loading //perinatal126-pc/pipdata/pip0163\\20_20_1901_T2MEdiff_moco_abs.e01.nii.gz\n"
     ]
    },
    {
     "name": "stderr",
     "output_type": "stream",
     "text": [
      "C:\\Users\\ca20\\AppData\\Local\\Temp/ipykernel_1192/194314524.py:46: DeprecationWarning: get_data() is deprecated in favor of get_fdata(), which has a more predictable return type. To obtain get_data() behavior going forward, use numpy.asanyarray(img.dataobj).\n",
      "\n",
      "* deprecated from version: 3.0\n",
      "* Will raise <class 'nibabel.deprecator.ExpiredDeprecationError'> as of version: 5.0\n",
      "  diffrelax_imgs[pipid + 'e0' + str(i+1)] = thisimg.get_data()\n"
     ]
    },
    {
     "name": "stdout",
     "output_type": "stream",
     "text": [
      "loading //perinatal126-pc/pipdata/pip0163\\20_20_1901_T2MEdiff_moco_abs.e02.nii.gz\n",
      "loading //perinatal126-pc/pipdata/pip0163\\20_20_1901_T2MEdiff_moco_abs.e03.nii.gz\n"
     ]
    },
    {
     "name": "stderr",
     "output_type": "stream",
     "text": [
      "C:\\Users\\ca20\\AppData\\Local\\Temp/ipykernel_1192/194314524.py:71: DeprecationWarning: get_data() is deprecated in favor of get_fdata(), which has a more predictable return type. To obtain get_data() behavior going forward, use numpy.asanyarray(img.dataobj).\n",
      "\n",
      "* deprecated from version: 3.0\n",
      "* Will raise <class 'nibabel.deprecator.ExpiredDeprecationError'> as of version: 5.0\n",
      "  diffrelaxmask = diffrelaxmask.get_data()\n"
     ]
    },
    {
     "name": "stdout",
     "output_type": "stream",
     "text": [
      "We highly recommend installing numba for faster function execution and model fitting.\n",
      "Using parallel processing with 8 workers.\n",
      "Setup brute2fine optimizer in 0.1473391056060791 seconds\n",
      "Fitting of 958 voxels complete in 9.411025524139404 seconds.\n",
      "Average of 0.00982361745734802 seconds per voxel.\n",
      "958\n",
      "(116, 108, 25)\n",
      "biggest slice is  17\n",
      "pip0163 >>T2s:  74.5588784174637 ADC:  1.3549443901852108e-06\n",
      "HERE I AM DOING SUBJECT pip0130\n",
      "loading //perinatal126-pc/pipdata/pip0130\\20_20_1401_T2MEdiff_moco_abs.e01.nii.gz\n",
      "loading //perinatal126-pc/pipdata/pip0130\\20_20_1401_T2MEdiff_moco_abs.e02.nii.gz\n",
      "loading //perinatal126-pc/pipdata/pip0130\\20_20_1401_T2MEdiff_moco_abs.e03.nii.gz\n",
      "loading //perinatal126-pc/pipdata/pip0130\\20_20_1401_T2MEdiff_moco_abs.e04.nii.gz\n",
      "loading //perinatal126-pc/pipdata/pip0130\\20_20_1401_T2MEdiff_moco_abs.e05.nii.gz\n",
      "We highly recommend installing numba for faster function execution and model fitting.\n"
     ]
    },
    {
     "ename": "ValueError",
     "evalue": "The truth value of an array with more than one element is ambiguous. Use a.any() or a.all()",
     "output_type": "error",
     "traceback": [
      "\u001b[1;31m---------------------------------------------------------------------------\u001b[0m",
      "\u001b[1;31mValueError\u001b[0m                                Traceback (most recent call last)",
      "\u001b[1;32m~\\AppData\\Local\\Temp/ipykernel_1192/194314524.py\u001b[0m in \u001b[0;36m<module>\u001b[1;34m\u001b[0m\n\u001b[0;32m     94\u001b[0m             \u001b[0macq_scheme2\u001b[0m\u001b[1;33m=\u001b[0m\u001b[0macq_scheme\u001b[0m\u001b[1;33m\u001b[0m\u001b[1;33m\u001b[0m\u001b[0m\n\u001b[0;32m     95\u001b[0m \u001b[1;33m\u001b[0m\u001b[0m\n\u001b[1;32m---> 96\u001b[1;33m         T2ADC_modelfit = T2ADC_model.fit(\n\u001b[0m\u001b[0;32m     97\u001b[0m                     \u001b[0macquisition_scheme\u001b[0m\u001b[1;33m=\u001b[0m\u001b[0macq_scheme2\u001b[0m\u001b[1;33m,\u001b[0m\u001b[1;33m\u001b[0m\u001b[1;33m\u001b[0m\u001b[0m\n\u001b[0;32m     98\u001b[0m                     \u001b[0mdata\u001b[0m\u001b[1;33m=\u001b[0m\u001b[0mdiffrelaximg\u001b[0m\u001b[1;33m,\u001b[0m\u001b[1;33m\u001b[0m\u001b[1;33m\u001b[0m\u001b[0m\n",
      "\u001b[1;32m~\\Documents\\GitHub\\dmipy-relax\\dmipy\\core\\modeling_framework.py\u001b[0m in \u001b[0;36mfit\u001b[1;34m(self, acquisition_scheme, data, mask, solver, Ns, maxiter, N_sphere_samples, use_parallel_processing, number_of_processors)\u001b[0m\n\u001b[0;32m   1154\u001b[0m             \u001b[0mmask\u001b[0m \u001b[1;33m=\u001b[0m \u001b[0mdata_\u001b[0m\u001b[1;33m[\u001b[0m\u001b[1;33m...\u001b[0m\u001b[1;33m,\u001b[0m \u001b[1;36m0\u001b[0m\u001b[1;33m]\u001b[0m \u001b[1;33m>\u001b[0m \u001b[1;36m0\u001b[0m\u001b[1;33m\u001b[0m\u001b[1;33m\u001b[0m\u001b[0m\n\u001b[0;32m   1155\u001b[0m         \u001b[1;32melse\u001b[0m\u001b[1;33m:\u001b[0m\u001b[1;33m\u001b[0m\u001b[1;33m\u001b[0m\u001b[0m\n\u001b[1;32m-> 1156\u001b[1;33m             \u001b[0mmask\u001b[0m \u001b[1;33m=\u001b[0m \u001b[0mnp\u001b[0m\u001b[1;33m.\u001b[0m\u001b[0mall\u001b[0m\u001b[1;33m(\u001b[0m\u001b[1;33m[\u001b[0m\u001b[0mmask\u001b[0m\u001b[1;33m,\u001b[0m \u001b[0mdata_\u001b[0m\u001b[1;33m[\u001b[0m\u001b[1;33m...\u001b[0m\u001b[1;33m,\u001b[0m \u001b[1;36m0\u001b[0m\u001b[1;33m]\u001b[0m \u001b[1;33m>\u001b[0m \u001b[1;36m0\u001b[0m\u001b[1;33m]\u001b[0m\u001b[1;33m,\u001b[0m \u001b[0maxis\u001b[0m\u001b[1;33m=\u001b[0m\u001b[1;36m0\u001b[0m\u001b[1;33m)\u001b[0m\u001b[1;33m\u001b[0m\u001b[1;33m\u001b[0m\u001b[0m\n\u001b[0m\u001b[0;32m   1157\u001b[0m         \u001b[0mmask_pos\u001b[0m \u001b[1;33m=\u001b[0m \u001b[0mnp\u001b[0m\u001b[1;33m.\u001b[0m\u001b[0mwhere\u001b[0m\u001b[1;33m(\u001b[0m\u001b[0mmask\u001b[0m\u001b[1;33m)\u001b[0m\u001b[1;33m\u001b[0m\u001b[1;33m\u001b[0m\u001b[0m\n\u001b[0;32m   1158\u001b[0m \u001b[1;33m\u001b[0m\u001b[0m\n",
      "\u001b[1;32m<__array_function__ internals>\u001b[0m in \u001b[0;36mall\u001b[1;34m(*args, **kwargs)\u001b[0m\n",
      "\u001b[1;32m~\\AppData\\Local\\Packages\\PythonSoftwareFoundation.Python.3.9_qbz5n2kfra8p0\\LocalCache\\local-packages\\Python39\\site-packages\\numpy\\core\\fromnumeric.py\u001b[0m in \u001b[0;36mall\u001b[1;34m(a, axis, out, keepdims, where)\u001b[0m\n\u001b[0;32m   2436\u001b[0m \u001b[1;33m\u001b[0m\u001b[0m\n\u001b[0;32m   2437\u001b[0m     \"\"\"\n\u001b[1;32m-> 2438\u001b[1;33m     return _wrapreduction(a, np.logical_and, 'all', axis, None, out,\n\u001b[0m\u001b[0;32m   2439\u001b[0m                           keepdims=keepdims, where=where)\n\u001b[0;32m   2440\u001b[0m \u001b[1;33m\u001b[0m\u001b[0m\n",
      "\u001b[1;32m~\\AppData\\Local\\Packages\\PythonSoftwareFoundation.Python.3.9_qbz5n2kfra8p0\\LocalCache\\local-packages\\Python39\\site-packages\\numpy\\core\\fromnumeric.py\u001b[0m in \u001b[0;36m_wrapreduction\u001b[1;34m(obj, ufunc, method, axis, dtype, out, **kwargs)\u001b[0m\n\u001b[0;32m     85\u001b[0m                 \u001b[1;32mreturn\u001b[0m \u001b[0mreduction\u001b[0m\u001b[1;33m(\u001b[0m\u001b[0maxis\u001b[0m\u001b[1;33m=\u001b[0m\u001b[0maxis\u001b[0m\u001b[1;33m,\u001b[0m \u001b[0mout\u001b[0m\u001b[1;33m=\u001b[0m\u001b[0mout\u001b[0m\u001b[1;33m,\u001b[0m \u001b[1;33m**\u001b[0m\u001b[0mpasskwargs\u001b[0m\u001b[1;33m)\u001b[0m\u001b[1;33m\u001b[0m\u001b[1;33m\u001b[0m\u001b[0m\n\u001b[0;32m     86\u001b[0m \u001b[1;33m\u001b[0m\u001b[0m\n\u001b[1;32m---> 87\u001b[1;33m     \u001b[1;32mreturn\u001b[0m \u001b[0mufunc\u001b[0m\u001b[1;33m.\u001b[0m\u001b[0mreduce\u001b[0m\u001b[1;33m(\u001b[0m\u001b[0mobj\u001b[0m\u001b[1;33m,\u001b[0m \u001b[0maxis\u001b[0m\u001b[1;33m,\u001b[0m \u001b[0mdtype\u001b[0m\u001b[1;33m,\u001b[0m \u001b[0mout\u001b[0m\u001b[1;33m,\u001b[0m \u001b[1;33m**\u001b[0m\u001b[0mpasskwargs\u001b[0m\u001b[1;33m)\u001b[0m\u001b[1;33m\u001b[0m\u001b[1;33m\u001b[0m\u001b[0m\n\u001b[0m\u001b[0;32m     88\u001b[0m \u001b[1;33m\u001b[0m\u001b[0m\n\u001b[0;32m     89\u001b[0m \u001b[1;33m\u001b[0m\u001b[0m\n",
      "\u001b[1;31mValueError\u001b[0m: The truth value of an array with more than one element is ambiguous. Use a.any() or a.all()"
     ]
    }
   ],
   "source": [
    "#dmipy packages for defining the acquisition scheme\n",
    "from dmipy.core.acquisition_scheme import acquisition_scheme_from_bvalues\n",
    "\n",
    "#load the gradient table\n",
    "gradecho = np.loadtxt(datadir + 'protocols/grad_echo_inv_TE4.txt')\n",
    "#extract the bvecs, bvals and echo times\n",
    "bvecs = gradecho[:,0:3]\n",
    "bvals = gradecho[:,3]\n",
    "TE = gradecho[:,4]\n",
    "\n",
    "#bv\n",
    "bvals_SI = bvals * 1e6 \n",
    "\n",
    "#these are just filler values\n",
    "delta = 0.003  \n",
    "Delta = 0.01 \n",
    "\n",
    "acq_scheme = acquisition_scheme_from_bvalues(bvals_SI, bvecs, delta, Delta, TE,b0_threshold=1e6, min_b_shell_distance=1e6)\n",
    "\n",
    "#find and load the diffusion-relaxation images \n",
    "#import package for file searching\n",
    "import glob\n",
    "vol_values=np.ones(len(pipids))\n",
    "t2s_values=np.ones(len(pipids))\n",
    "adc_values=np.ones(len(pipids))\n",
    "##loop \n",
    "if (len(expnrs)==len(pipids)):\n",
    "    for ii in range(13,len(expnrs)):\n",
    "        pipid=pipids[ii] # for now we take the first in the array\n",
    "        expnr=expnrs[ii]\n",
    "\n",
    "        print(\"HERE I AM DOING SUBJECT\",pipid)\n",
    "\n",
    "        #find the motion corrected T2*-diffusion scans\n",
    "        diffrelax_filenames = glob.glob(datadir + pipid + '/20_20_'+expnr+'*01_T2MEdiff_moco_abs.e*')\n",
    "\n",
    "        #put them in echo time order\n",
    "        diffrelax_filenames = sorted(diffrelax_filenames)\n",
    "\n",
    "        #load each echo time file into a dictionary using nibabel\n",
    "        diffrelax_imgs = {}\n",
    "        \n",
    "        for i in range(0,len(diffrelax_filenames)):\n",
    "            print('loading ' + diffrelax_filenames[i])\n",
    "            thisimg = nib.load(diffrelax_filenames[i])\n",
    "            diffrelax_imgs[pipid + 'e0' + str(i+1)] = thisimg.get_data()\n",
    "            \n",
    "        #put all the echo times together into a single array\n",
    "            \n",
    "        if len(diffrelax_imgs)==3:\n",
    "            diffrelaximg = np.concatenate((diffrelax_imgs[pipid + 'e01'],diffrelax_imgs[pipid + 'e02'],diffrelax_imgs[pipid + 'e03']),axis=3)    \n",
    "        elif len(diffrelax_imgs)==4:\n",
    "            diffrelaximg = np.concatenate((diffrelax_imgs[pipid + 'e01'],diffrelax_imgs[pipid + 'e02'],diffrelax_imgs[pipid + 'e03'],diffrelax_imgs[pipid + 'e04']),axis=3) \n",
    "    \n",
    "        acq_scheme = acquisition_scheme_from_bvalues(bvals_SI, bvecs, delta, Delta, TE,b0_threshold=1e6, min_b_shell_distance=1e6)\n",
    "        ee=198\n",
    "        acq_scheme_short = acquisition_scheme_from_bvalues(bvals_SI[0:ee], bvecs[0:ee], delta, Delta, TE[0:ee],b0_threshold=1e6, min_b_shell_distance=1e6)\n",
    "        \n",
    "        \n",
    "        \n",
    "        #find and load a mask for this data\n",
    "        maskfilename = glob.glob(datadir + 'masksandco/Segmentations/'+ pipid + '*T2MEdiffmoco*')    \n",
    "\n",
    "        diffrelaxmask = nib.load(maskfilename[0])\n",
    "        header_info = diffrelaxmask.header\n",
    "        \n",
    "\n",
    "        # change the voxel dimensions to [2,2,2]\n",
    "        resolution = header_info['pixdim'][1:4] \n",
    "        #print(resolution)\n",
    "        diffrelaxmask = diffrelaxmask.get_data()\n",
    "\n",
    "        #load some packages and functions from dmipy for fitting\n",
    "        from dmipy.core import modeling_framework\n",
    "        from dmipy.core.modeling_framework import MultiCompartmentModel\n",
    "        from dmipy.signal_models import cylinder_models, gaussian_models\n",
    "\n",
    "        #define the T2-ADC (actually T2*-ADC for this data) model \n",
    "        T2ADC_compartment = gaussian_models.G1BallT2()\n",
    "        T2ADC_model = MultiCompartmentModel([T2ADC_compartment])\n",
    "\n",
    "        #can adjust many things when fitting, e.g. the minimum and maximum parameter values\n",
    "        T2ADC_model.parameter_ranges['G1BallT2_1_lambda_iso'] = (0.1, 10)\n",
    "\n",
    "        #fit the T2-ADC model to the data (this takes approx 2-3 minutes using a single core on my laptop)\n",
    "\n",
    "        #define the number of grid points for the brute force initialisation, the default value is 10 \n",
    "        #which often leads to missing the global minimum, 50 seems to always find the global min on this data\n",
    "        ngrid = 50\n",
    "\n",
    "        if len(diffrelax_imgs)==3:\n",
    "            acq_scheme2=acq_scheme_short\n",
    "        else: \n",
    "            acq_scheme2=acq_scheme\n",
    "        \n",
    "        T2ADC_modelfit = T2ADC_model.fit(\n",
    "                    acquisition_scheme=acq_scheme2,\n",
    "                    data=diffrelaximg,\n",
    "                    mask=diffrelaxmask,\n",
    "                    Ns=ngrid)\n",
    "\n",
    "\n",
    "        print(np.sum(diffrelaxmask>0))\n",
    "        NVoxels = np.sum(diffrelaxmask>0);\n",
    "\n",
    "        adc=T2ADC_modelfit.fitted_parameters['G1BallT2_1_lambda_iso']\n",
    "        t2s=T2ADC_modelfit.fitted_parameters['G1BallT2_1_t2']\n",
    "        print(np.shape(adc))\n",
    "\n",
    "        c_slc=np.argmax(np.nansum(adc, axis=(0,1)))\n",
    "        print(\"biggest slice is \",c_slc)\n",
    "\n",
    "        volume = NVoxels * resolution[0] * resolution[1] * resolution[2] # In mm^3\n",
    "\n",
    "        mean_adc=np.nanmean(adc[adc>0])\n",
    "        mean_t2s=np.nanmean(t2s[t2s>0])\n",
    "\n",
    "        print(pipid,\">>T2s: \",mean_t2s*1000,\"ADC: \",mean_adc*1000)\n",
    "        vol_values[ii]=volume\n",
    "        adc_values[ii]=mean_adc\n",
    "        t2s_values[ii]=mean_t2s\n"
   ]
  },
  {
   "cell_type": "code",
   "execution_count": 222,
   "metadata": {
    "scrolled": false
   },
   "outputs": [
    {
     "name": "stdout",
     "output_type": "stream",
     "text": [
      "inf0002 = 1.8263735029055964e-09\n",
      "inf0003 = 2.2089966679997027e-09\n",
      "inf0004 = 3.772003776801759e-09\n",
      "inf0005 = 2.4004596123389805e-09\n",
      "inf0006 = 1.8799082037255047e-09\n",
      "inf0007 = 2.242735456535085e-09\n",
      "inf0008 = 3.206920672564549e-09\n",
      "inf0010 = 2.3524604898835523e-09\n",
      "inf0011 = 2.9122066636580377e-09\n",
      "inf0012 = 4.009734368356527e-09\n",
      "pip0163 = 1.0\n",
      "pip0130 = 1.0\n",
      "pip0143 = 1.0\n",
      "pip0162 = 1.0\n",
      "pip0276 = 1.0\n",
      "pip0204 = 1.0\n",
      "pip021902 = 1.0\n",
      "pip0201 = 1.0\n",
      "pip0147 = 1.0\n",
      "pip014702 = 1.0\n",
      "pip0195 = 1.0\n"
     ]
    }
   ],
   "source": [
    "for x in range(0,len(pipids)):\n",
    "    pipiddd=pipids[x]\n",
    "    strrr = pipiddd + ' = ' + str(adc_values[x])\n",
    "    print(strrr)    "
   ]
  },
  {
   "cell_type": "code",
   "execution_count": 229,
   "metadata": {},
   "outputs": [
    {
     "name": "stdout",
     "output_type": "stream",
     "text": [
      "<dmipy.core.acquisition_scheme.DmipyAcquisitionScheme object at 0x000002100B0AE5B0>\n"
     ]
    }
   ],
   "source": [
    "print(acq_scheme)"
   ]
  },
  {
   "cell_type": "code",
   "execution_count": 174,
   "metadata": {},
   "outputs": [
    {
     "name": "stdout",
     "output_type": "stream",
     "text": [
      "inf0002=15273.12520122528\n",
      "inf0003=34689.49181342125\n",
      "inf0004=39915.93359327316\n",
      "inf0005=18549.806317090988\n",
      "inf0006=23370.047958612442\n",
      "inf0007=28352.76965546608\n",
      "inf0008=23045.087847948074\n",
      "inf0010=29002.689876794815\n",
      "inf0011=31087.850586891174\n",
      "inf0012=17818.64606809616\n",
      "pip0130=3018.421062745546\n",
      "pip0143=1399.0\n",
      "pip0162=23316.92168712616\n",
      "pip0276=6634.602259397507\n",
      "pip0204=10940.323725700378\n",
      "pip021902=34824.8918595314\n",
      "pip0201=1.0\n",
      "pip0147=1.0\n",
      "pip014702=1.0\n",
      "pip0195=1.0\n"
     ]
    }
   ],
   "source": [
    "for x in range(0,len(pipids)):\n",
    "    volll=pipids[x]\n",
    "    strrr=volll + '=' + str(vol_values[x])\n",
    "    print(strrr)"
   ]
  },
  {
   "cell_type": "code",
   "execution_count": 175,
   "metadata": {},
   "outputs": [
    {
     "name": "stdout",
     "output_type": "stream",
     "text": [
      "inf0002=0.0665305200747051\n",
      "inf0003=0.04577661330073078\n",
      "inf0004=0.03447009214907587\n",
      "inf0005=0.07148857147893063\n",
      "inf0006=0.05264771168045016\n",
      "inf0007=0.09609188032461496\n",
      "inf0008=0.06672493735215487\n",
      "inf0010=0.0864658796092431\n",
      "inf0011=0.055108170295818854\n",
      "inf0012=0.03831946200856223\n",
      "pip0130=0.08832287983799308\n",
      "pip0143=0.04739799515986903\n",
      "pip0162=0.07214326485337295\n",
      "pip0276=0.06212145789912918\n",
      "pip0204=0.08986560478959363\n",
      "pip021902=0.05184427405930541\n",
      "pip0201=1.0\n",
      "pip0147=1.0\n",
      "pip014702=1.0\n",
      "pip0195=1.0\n"
     ]
    }
   ],
   "source": [
    "for x in range (0,len(pipids)):\n",
    "    t2sss=pipids[x]\n",
    "    strrr=t2sss+'='+str(t2s_values[x])\n",
    "    print(strrr)"
   ]
  },
  {
   "cell_type": "code",
   "execution_count": 181,
   "metadata": {
    "scrolled": true
   },
   "outputs": [
    {
     "name": "stdout",
     "output_type": "stream",
     "text": [
      "[27.7, 29.86, 30.57, 25.86, 29.71, 26.57, 25.43, 33.71, 29.71, 26.29, 29.57, 31, 32.86, 21.14, 26.57, 37, 23, 26.57, 36.57, 15.71]\n",
      "[0.06653052 0.04577661 0.03447009 0.07148857 0.05264771 0.09609188\n",
      " 0.06672494 0.08646588 0.05510817 0.03831946 0.08832288 0.047398\n",
      " 0.07214326 0.06212146 0.0898656  0.05184427 1.         1.\n",
      " 1.         1.        ]\n"
     ]
    },
    {
     "data": {
      "image/png": "[encoded data removed]",
      "text/plain": [
       "<Figure size 432x288 with 1 Axes>"
      ]
     },
     "metadata": {
      "needs_background": "light"
     },
     "output_type": "display_data"
    }
   ],
   "source": [
    "import matplotlib.pyplot as plt\n",
    "x=gas\n",
    "y=t2s_values\n",
    "print(x)\n",
    "print(y)\n",
    "\n",
    "indicescontrol=[0,1,2,3,4]\n",
    "xcontrol = []\n",
    "ycontrol=[]\n",
    "for index in indicescontrol:\n",
    "    xcontrol.append(x[index])\n",
    "    ycontrol.append(y[index])\n",
    "    \n",
    "indicesinf=[5,6,7,8]\n",
    "xinf = []\n",
    "yinf=[]\n",
    "for index in indicesinf:\n",
    "    xinf.append(x[index])\n",
    "    yinf.append(y[index])\n",
    "\n",
    "ax.grid(zorder=0)\n",
    "plt.scatter(xcontrol, ycontrol,s=50, c='darkblue')\n",
    "plt.scatter(xinf, yinf,s=50, c='green')\n",
    "\n",
    "plt.title('T2s values over GA at scan')\n",
    "\n",
    "\n",
    "plt.xlabel('GA at scan')\n",
    "plt.ylabel('Mean T2s values')\n",
    "\n",
    "plt.show()\n",
    "\n"
   ]
  },
  {
   "cell_type": "code",
   "execution_count": 177,
   "metadata": {},
   "outputs": [
    {
     "data": {
      "image/png": "[encoded data removed]",
      "text/plain": [
       "<Figure size 432x288 with 1 Axes>"
      ]
     },
     "metadata": {
      "needs_background": "light"
     },
     "output_type": "display_data"
    }
   ],
   "source": [
    "import matplotlib.pyplot as plt\n",
    "import numpy as np\n",
    "\n",
    "x = np.array([27.7,29.86,30.57,25.86,29.71,26.57,25.43])\n",
    "y = np.array([0.0665305200747051,0.04577661330073078,0.03447009214907587,0.07148857147893063,0.05264771168045016,0.09609188032461496,0.06672493735215487])\n",
    "plt.scatter(x, y, c='darkblue')\n",
    "plt.xlabel('x')\n",
    "plt.ylabel('y')\n",
    "plt.show()\n",
    "\n",
    "plt.show()"
   ]
  },
  {
   "cell_type": "code",
   "execution_count": 178,
   "metadata": {},
   "outputs": [
    {
     "data": {
      "image/png": "[encoded data removed]",
      "text/plain": [
       "<Figure size 432x288 with 1 Axes>"
      ]
     },
     "metadata": {
      "needs_background": "light"
     },
     "output_type": "display_data"
    }
   ],
   "source": [
    "import matplotlib.pyplot as plt\n",
    "x=gas\n",
    "y=vol_values\n",
    "plt.scatter(x,y)\n",
    "plt.show()\n"
   ]
  },
  {
   "cell_type": "code",
   "execution_count": 179,
   "metadata": {},
   "outputs": [
    {
     "data": {
      "image/png": "[encoded data removed]",
      "text/plain": [
       "<Figure size 432x288 with 1 Axes>"
      ]
     },
     "metadata": {
      "needs_background": "light"
     },
     "output_type": "display_data"
    }
   ],
   "source": [
    "import matplotlib.pyplot as plt\n",
    "x=gas\n",
    "y=adc_values\n",
    "plt.scatter(x,y)\n",
    "plt.show()\n"
   ]
  },
  {
   "cell_type": "code",
   "execution_count": 195,
   "metadata": {},
   "outputs": [
    {
     "name": "stdout",
     "output_type": "stream",
     "text": [
      "We highly recommend installing numba for faster function execution and model fitting.\n",
      "We highly recommend installing numba for faster function execution and model fitting.\n"
     ]
    }
   ],
   "source": [
    "#Some more complex models that might be interesting to explore..\n",
    "#T2ball-T2ball (T2-IVIM) model - two compartment model\n",
    "T2ADC_compartment1 = gaussian_models.G1BallT2()\n",
    "T2ADC_compartment2 = gaussian_models.G1BallT2()\n",
    "\n",
    "T2IVIMmod = MultiCompartmentModel([T2ADC_compartment1, T2ADC_compartment2])\n",
    "#one compartment is perfusion - adjust parameter ranges accordingly \n",
    "T2IVIMmod.parameter_ranges['G1BallT2_1_lambda_iso'] = (3, 100)\n",
    "\n",
    "\n",
    "\n",
    "#DECIDE model - T2ball-T2ball-T2ball with linked parameters (Andrew Melbourne et al MRM 2018)\n",
    "#compartment 1: fetal blood - D_1 (high), T2_1 (high)\n",
    "#compartment 2: maternal blood - D_2 (low), T2_1 (high)\n",
    "#compartment 3: tissue - D_2 (low), T2_2 (low)\n",
    "\n",
    "T2ADC_compartment1 = gaussian_models.G1BallT2()\n",
    "T2ADC_compartment2 = gaussian_models.G1BallT2()\n",
    "T2ADC_compartment3 = gaussian_models.G1BallT2()\n",
    "\n",
    "decidemod = MultiCompartmentModel([T2ADC_compartment1, T2ADC_compartment2, T2ADC_compartment3])\n",
    "\n",
    "#need to set diffusivities equal for maternal blood and tissue\n",
    "decidemod.set_equal_parameter('G1BallT2_2_lambda_iso', 'G1BallT2_3_lambda_iso')\n",
    "#set t2 equal for maternal blood and fetal blood\n",
    "decidemod.set_equal_parameter('G1BallT2_1_t2', 'G1BallT2_2_t2')"
   ]
  },
  {
   "cell_type": "code",
   "execution_count": null,
   "metadata": {},
   "outputs": [],
   "source": []
  }
 ],
 "metadata": {
  "kernelspec": {
   "display_name": "Python 3 (ipykernel)",
   "language": "python",
   "name": "python3"
  },
  "language_info": {
   "codemirror_mode": {
    "name": "ipython",
    "version": 3
   },
   "file_extension": ".py",
   "mimetype": "text/x-python",
   "name": "python",
   "nbconvert_exporter": "python",
   "pygments_lexer": "ipython3",
   "version": "3.9.7"
  }
 },
 "nbformat": 4,
 "nbformat_minor": 2
}
